{
 "metadata": {
  "language_info": {
   "codemirror_mode": {
    "name": "ipython",
    "version": 3
   },
   "file_extension": ".py",
   "mimetype": "text/x-python",
   "name": "python",
   "nbconvert_exporter": "python",
   "pygments_lexer": "ipython3",
   "version": 3
  },
  "orig_nbformat": 2
 },
 "nbformat": 4,
 "nbformat_minor": 2,
 "cells": [
  {
   "source": [
    "## Constraint Optimization Single Agent\n",
    "\n",
    "An agent(A) wishes to participate in one or more meetings(M). Each meeting has 8 possible time slots which can be held. Agent's job is to schedule these meetings in an arrangement such that its total utitily is maximized. The agent has preferences meaning it might prefer meetings to be held during early hours or later in the day or it could be neutral. Every meeting has a utitily(U). We assume that meetings with higher utitily value, given that the agent prefers meetings to be held early in the morning will be scheduled before meetings with lower utitily. \n",
    "\n",
    "\n",
    "Preference table for agent $A_{i}$:\n",
    "\n",
    "| Meeting preference | Morning | Afternoon | Evening |  \n",
    "| -: | :-: | :-: | :-: |\n",
    "| value | 10 | 5 | 2\n",
    "\n",
    "Meetings and their utilities for agent $A_{i}$:\n",
    "\n",
    "| Meeting | Utility |\n",
    "| :-: | :-: |\n",
    "| $M_{1}$ | 4\n",
    "| $M_{2}$ | 6\n",
    "| $M_{3}$ | 3\n"
   ],
   "cell_type": "markdown",
   "metadata": {}
  }
 ]
}