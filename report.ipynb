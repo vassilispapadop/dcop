{
 "metadata": {
  "language_info": {
   "codemirror_mode": {
    "name": "ipython",
    "version": 3
   },
   "file_extension": ".py",
   "mimetype": "text/x-python",
   "name": "python",
   "nbconvert_exporter": "python",
   "pygments_lexer": "ipython3",
   "version": 3
  },
  "orig_nbformat": 2
 },
 "nbformat": 4,
 "nbformat_minor": 2,
 "cells": [
  {
   "source": [
    "# Constraint Optimization Single Agent\n",
    "\n",
    "An agent(A) wishes to participate in one or more meetings(M). Each meeting has 3 possible time slots which can be held. Agent's job is to schedule these meetings in an arrangement such that its total utitily is maximized. The agent has preferences meaning it might prefer meetings to be held during early hours or later in the day or it could be neutral. Every meeting has a utitily(U). We assume that meetings with higher utitily value, given that the agent prefers meetings to be held early in the morning will be scheduled before meetings with lower utitily. \n",
    "\n",
    "\n",
    "Preference table for agent $A_{i}$:\n",
    "\n",
    "| Meeting preference | Morning | Afternoon | Evening |  \n",
    "| -: | :-: | :-: | :-: |\n",
    "| value | 10 | 5 | 2\n",
    "\n",
    "Meetings and their utilities for agent $A_{i}$. A meeting $M_{i}$ will be scheduled before $M_{j}$, if $U_{i} > U_{j}$. Symbol $<$ in constrains column in table below indicates that a meeting $i$ is preferred to be scheduled before meeting $j$\n",
    "\n",
    "| Meeting | Utility | Constraints\n",
    "| :-: | :-: | :- |\n",
    "| $M_{1}$ | 4 | $M_{1}<M_{3}, M_{1}>M_{2}$\n",
    "| $M_{2}$ | 6 | $M_{2}<M_{1},M_{2}<M_{3} $\n",
    "| $M_{3}$ | 3 | $M_{3}>M_{1}, M_{3}>M_{2}$\n",
    "\n",
    "### Relationship matrix\n",
    "\n",
    "From the above we could caclulate relationship matrices for meetings $M_{1}, M_{2}, M_{3}$. A relationship matrix $r^{j}_{i}$ is defined as follow. Let's consider $M_{1}, M_{2}$\n",
    "\n",
    "||Morning|Afternoon|Evening| |Morning|Afternoon|Evening\n",
    "|:-| :-: | :-: | :-: | :-: | :-: | :-: | :-: | \n",
    "|Morning|-1|max(4X10, 6X5)|max(4X10, 6X3)| | -1 | 40 | 40  \n",
    "|Afternoon|max(4X5, 6X10)|-1|max(4X5, 6X2)| | 60 | -1 | 20 \n",
    "|Evening|max(4X2, 6X10)|max(4X2, 6X5)|-1| | 60 | 30 | -1\n",
    "\n",
    "Main diagonal is set to -1 because no two meetings can be scheduled at the same time. From relation matrix above we conclude that. \n",
    "- if $M_{2}$ is scheduled in the morning then $M_{1}$ could be scheduled either in afternoon or evening. \n",
    "- if $M_{2}$ is scheduled in the afternoon then it is better for agent's interests $M_{1}$ to be held in the morning. \n",
    "- if $M_{2}$ is scheduled in the evening, $M_{1}$ should be scheduled in the morning.\n",
    "\n"
   ],
   "cell_type": "markdown",
   "metadata": {}
  },
  {
   "source": [
    "# Constraint Optimization Multiple Agents\n",
    "\n",
    "Agent $A_{1}$ participates in $m_{1}$={$M_{1},M_{2},M_{3}$}.\n",
    "Agent $A_{2}$ participates in $m_{2}$ = {$M_{3}, M_{4}, M_{5}$}. They share $M_{3}$ which means they need to collaborate in order to maximize the total utility of the system."
   ],
   "cell_type": "markdown",
   "metadata": {}
  }
 ]
}